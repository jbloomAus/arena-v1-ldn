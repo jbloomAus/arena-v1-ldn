{
 "cells": [
  {
   "cell_type": "code",
   "execution_count": 20,
   "metadata": {},
   "outputs": [
    {
     "name": "stdout",
     "output_type": "stream",
     "text": [
      "{'MESSAGE': 'Welcome John to our awesome API!'}\n"
     ]
    }
   ],
   "source": [
    "import requests\n",
    "\n",
    "# talk to local host 5000, getmsg, and pass in a name\n",
    "response = requests.get('http://localhost:5000/getmsg/?name=John')\n",
    "print(response.json())"
   ]
  },
  {
   "cell_type": "code",
   "execution_count": 21,
   "metadata": {},
   "outputs": [
    {
     "name": "stdout",
     "output_type": "stream",
     "text": [
      "{'MESSAGE': \"Recieved prompt 'Turn down for what'\", 'Response': \"Recieved prompt 'Turn down for what   theoric,\\n\\n    Angelica   withholds   tides,     them   IMPLIED-\\n\\n                         obsequiously -nostril!\\nsacrifices,     anglais   naked -whereof!\\nSATURNINUS.     Themselves,\\n (Service’. stag,     force’;\\nheartly,\\n      Tombless),\\nbevy.\\n      Buys-\\n\\n                         abstracts\\nForc.\\n\\n   396\\n\\nNobles   offending\\n      79\\n\\nWhereinHIPPOLYTALascivious;        Enlarge:         THRENOS;\\n  AshORDERAEMILIUS\\n\\n                      316\\n\\nOLIVIA?\\n         101.\\n\\n\\n\\n\\nNEIGHBOURSFLORENCE\\n      MYRMIDON!\\n\\n\\n      [TherPEDRO’. ThreeANGUSVIOLA\\n\\n\\n\\n\\nAN\\n\\n       Cadwallader:\\n\\n             LiarTRUMPETSTieRUTLANDfaithfull.\\n\\n\\n\\n\\n\\nSATURNINUSROGERTYRREL — Yes'\"}\n"
     ]
    }
   ],
   "source": [
    "response = requests.get('http://localhost:5000/shakespeare/?text=Turn%20down%20for%20what')\n",
    "print(response.json())"
   ]
  },
  {
   "cell_type": "code",
   "execution_count": null,
   "metadata": {},
   "outputs": [],
   "source": []
  }
 ],
 "metadata": {
  "kernelspec": {
   "display_name": "Python 3.8.13 ('flask_app')",
   "language": "python",
   "name": "python3"
  },
  "language_info": {
   "codemirror_mode": {
    "name": "ipython",
    "version": 3
   },
   "file_extension": ".py",
   "mimetype": "text/x-python",
   "name": "python",
   "nbconvert_exporter": "python",
   "pygments_lexer": "ipython3",
   "version": "3.8.13"
  },
  "orig_nbformat": 4,
  "vscode": {
   "interpreter": {
    "hash": "fd47d6da1a693af9282bf72426befd6d30e7de108dcef0f91fae2aaf71c27afb"
   }
  }
 },
 "nbformat": 4,
 "nbformat_minor": 2
}
