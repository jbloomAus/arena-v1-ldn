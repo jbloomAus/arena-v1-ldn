{
 "cells": [
  {
   "cell_type": "code",
   "execution_count": 23,
   "metadata": {},
   "outputs": [
    {
     "name": "stdout",
     "output_type": "stream",
     "text": [
      "{'MESSAGE': 'Welcome John to our awesome API!'}\n"
     ]
    }
   ],
   "source": [
    "import requests\n",
    "\n",
    "# talk to local host 5000, getmsg, and pass in a name\n",
    "response = requests.get('http://localhost:5000/getmsg/?name=John')\n",
    "print(response.json())"
   ]
  },
  {
   "cell_type": "code",
   "execution_count": 25,
   "metadata": {},
   "outputs": [
    {
     "name": "stdout",
     "output_type": "stream",
     "text": [
      "Recieved prompt 'Turn down for what ear,\n",
      "When ’gainst, and world-oblivious, and.\n",
      "  I’s hems’ sO (though-loving,\n",
      "  And ’tis, your.\n",
      "\n",
      "\n",
      "                    30\n",
      "\n",
      "When’ er\n",
      "Thy\n",
      "\n",
      "\n",
      "                    29\n",
      "\n",
      "I end,\n",
      "And (all;\n",
      "  And’st)\n",
      "though-lived,’\n",
      " ‘pay)\n",
      "Shall ’twixt) your.\n",
      "  wide\n",
      "To the;\n",
      "Save:\n",
      "Then!\n",
      "ButForForBut,\n",
      "’\n",
      "  Thou\n",
      "\n",
      "\n",
      "                    love: likeYou’.\n",
      "\n",
      "\n",
      "                    Delights)\n",
      "  All’d\n",
      "\n",
      "SweetSo'\n"
     ]
    }
   ],
   "source": [
    "response = requests.get('http://localhost:5000/shakespeare/?text=Turn%20down%20for%20what')\n",
    "print(response.json()['Response'])"
   ]
  },
  {
   "cell_type": "code",
   "execution_count": null,
   "metadata": {},
   "outputs": [],
   "source": []
  }
 ],
 "metadata": {
  "kernelspec": {
   "display_name": "Python 3.8.13 ('flask_app')",
   "language": "python",
   "name": "python3"
  },
  "language_info": {
   "codemirror_mode": {
    "name": "ipython",
    "version": 3
   },
   "file_extension": ".py",
   "mimetype": "text/x-python",
   "name": "python",
   "nbconvert_exporter": "python",
   "pygments_lexer": "ipython3",
   "version": "3.8.13"
  },
  "orig_nbformat": 4,
  "vscode": {
   "interpreter": {
    "hash": "fd47d6da1a693af9282bf72426befd6d30e7de108dcef0f91fae2aaf71c27afb"
   }
  }
 },
 "nbformat": 4,
 "nbformat_minor": 2
}
