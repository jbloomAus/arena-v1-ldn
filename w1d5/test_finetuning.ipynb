{
 "cells": [
  {
   "cell_type": "markdown",
   "metadata": {},
   "source": [
    "# Test Fine Tuning Model "
   ]
  },
  {
   "cell_type": "code",
   "execution_count": 1,
   "metadata": {},
   "outputs": [
    {
     "data": {
      "text/plain": [
       "<All keys matched successfully>"
      ]
     },
     "execution_count": 1,
     "metadata": {},
     "output_type": "execute_result"
    }
   ],
   "source": [
    "import os\n",
    "os.environ[\"TOKENIZERS_PARALLELISM\"] = \"true\"\n",
    "from dataclasses import dataclass\n",
    "import pandas as pd\n",
    "import plotly.express as px\n",
    "import torch as t\n",
    "import transformers\n",
    "from bert_finetuning import BERTLanguageMODEL, BertClassifier\n",
    "from src.transformers import TransformerConfig\n",
    "\n",
    "\n",
    "config = {\n",
    "    'batch_size': 8,\n",
    "    'hidden_size': 768,\n",
    "    'lr': 1e-5,\n",
    "    'seq_len': 512,\n",
    "    'num_layers': 12,\n",
    "    'num_heads': 12,\n",
    "    'vocab_size': 28996,\n",
    "    'num_epochs': 1,\n",
    "    'device': 'mps',\n",
    "    'dropout': 0.1,\n",
    "    'layer_norm_epsilon': 1e-12,\n",
    "    'train_set_size': 1000,\n",
    "    'test_set_size': 1000,\n",
    "    'num_workers': 2,\n",
    "}\n",
    "\n",
    "transformer_config = TransformerConfig(\n",
    "    hidden_size=config[\"hidden_size\"],\n",
    "    num_heads=config[\"num_heads\"],\n",
    "    num_layers= config[\"num_layers\"],\n",
    "    layer_norm_epsilon=config[\"layer_norm_epsilon\"],\n",
    "    max_seq_len=config[\"seq_len\"],\n",
    "    dropout=config[\"dropout\"],\n",
    "    vocab_size=config[\"vocab_size\"],\n",
    ")\n",
    "\n",
    "my_bert = BERTLanguageMODEL(transformer_config)\n",
    "my_bert_classifier = BertClassifier(my_bert.bert, 2)\n",
    "my_bert_classifier.load_state_dict(t.load(\"/Users/josephbloom/GithubRepositories/arena-v1-ldn/bert_imdb_model.pt\"))\n",
    "#my_bert_classifier.eval()"
   ]
  },
  {
   "cell_type": "code",
   "execution_count": 2,
   "metadata": {},
   "outputs": [],
   "source": [
    "DATA_FOLDER = \"./data/bert-imdb/\"\n",
    "IMDB_PATH = os.path.join(DATA_FOLDER, \"acllmdb_v1.tar.gz\")\n",
    "SAVED_TOKENS_PATH = os.path.join(DATA_FOLDER, \"tokens.pt\")\n",
    "train_data, test_data = t.load(SAVED_TOKENS_PATH)"
   ]
  },
  {
   "cell_type": "code",
   "execution_count": 3,
   "metadata": {},
   "outputs": [],
   "source": [
    "tokenizer = transformers.AutoTokenizer.from_pretrained(\"bert-base-cased\")"
   ]
  },
  {
   "cell_type": "code",
   "execution_count": 25,
   "metadata": {},
   "outputs": [
    {
     "data": {
      "text/html": [
       "<div>\n",
       "<style scoped>\n",
       "    .dataframe tbody tr th:only-of-type {\n",
       "        vertical-align: middle;\n",
       "    }\n",
       "\n",
       "    .dataframe tbody tr th {\n",
       "        vertical-align: top;\n",
       "    }\n",
       "\n",
       "    .dataframe thead th {\n",
       "        text-align: right;\n",
       "    }\n",
       "</style>\n",
       "<table border=\"1\" class=\"dataframe\">\n",
       "  <thead>\n",
       "    <tr style=\"text-align: right;\">\n",
       "      <th></th>\n",
       "      <th>true_sent</th>\n",
       "      <th>pred_sent</th>\n",
       "      <th>true_star</th>\n",
       "      <th>pred_star</th>\n",
       "    </tr>\n",
       "  </thead>\n",
       "  <tbody>\n",
       "    <tr>\n",
       "      <th>0</th>\n",
       "      <td>0</td>\n",
       "      <td>0.060224</td>\n",
       "      <td>1</td>\n",
       "      <td>2.261431</td>\n",
       "    </tr>\n",
       "    <tr>\n",
       "      <th>1</th>\n",
       "      <td>0</td>\n",
       "      <td>0.085180</td>\n",
       "      <td>4</td>\n",
       "      <td>3.100718</td>\n",
       "    </tr>\n",
       "    <tr>\n",
       "      <th>2</th>\n",
       "      <td>0</td>\n",
       "      <td>0.063187</td>\n",
       "      <td>2</td>\n",
       "      <td>3.535131</td>\n",
       "    </tr>\n",
       "    <tr>\n",
       "      <th>3</th>\n",
       "      <td>0</td>\n",
       "      <td>0.079393</td>\n",
       "      <td>1</td>\n",
       "      <td>3.254955</td>\n",
       "    </tr>\n",
       "    <tr>\n",
       "      <th>4</th>\n",
       "      <td>1</td>\n",
       "      <td>0.764828</td>\n",
       "      <td>8</td>\n",
       "      <td>6.255582</td>\n",
       "    </tr>\n",
       "  </tbody>\n",
       "</table>\n",
       "</div>"
      ],
      "text/plain": [
       "   true_sent  pred_sent  true_star  pred_star\n",
       "0          0   0.060224          1   2.261431\n",
       "1          0   0.085180          4   3.100718\n",
       "2          0   0.063187          2   3.535131\n",
       "3          0   0.079393          1   3.254955\n",
       "4          1   0.764828          8   6.255582"
      ]
     },
     "execution_count": 25,
     "metadata": {},
     "output_type": "execute_result"
    }
   ],
   "source": [
    "import random \n",
    "from torch.utils.data import DataLoader\n",
    "\n",
    "true_star = []\n",
    "pred_star = []\n",
    "true_sent = []\n",
    "pred_sent = []\n",
    "\n",
    "testloader = DataLoader(random.sample(list(test_data),200), batch_size=8, shuffle=False, num_workers=0)\n",
    "\n",
    "my_bert_classifier.eval()\n",
    "for i, data in enumerate(testloader):\n",
    "    inputs, masks, sentiment_labels, star_labels = data\n",
    "    sentiment, star = my_bert_classifier(inputs, masks)\n",
    "    pred_sentiment = t.softmax(sentiment, dim=1)[:,1] # prob of good review\n",
    "    for j in range(len(sentiment_labels)):\n",
    "        pred_sent.append(pred_sentiment[j].item())\n",
    "        true_sent.append(sentiment_labels[j].item())\n",
    "        pred_star.append(star[j].item())\n",
    "        true_star.append(star_labels[j].item())\n",
    "\n",
    "df = pd.DataFrame({\"true_sent\": true_sent, \"pred_sent\": pred_sent, \"true_star\": true_star, \"pred_star\": pred_star})\n",
    "df.head()"
   ]
  },
  {
   "cell_type": "code",
   "execution_count": 26,
   "metadata": {},
   "outputs": [
    {
     "data": {
      "application/vnd.plotly.v1+json": {
       "config": {
        "plotlyServerURL": "https://plot.ly"
       },
       "data": [
        {
         "alignmentgroup": "True",
         "box": {
          "visible": true
         },
         "hovertemplate": "true_sent=0<br>pred_sent=%{y}<extra></extra>",
         "legendgroup": "0",
         "marker": {
          "color": "#636efa"
         },
         "name": "0",
         "offsetgroup": "0",
         "orientation": "v",
         "points": "all",
         "scalegroup": "True",
         "showlegend": true,
         "type": "violin",
         "x0": " ",
         "xaxis": "x",
         "y": [
          0.060223616659641266,
          0.08517956733703613,
          0.0631868988275528,
          0.07939349114894867,
          0.28097084164619446,
          0.23193775117397308,
          0.06875751167535782,
          0.14845551550388336,
          0.07644632458686829,
          0.07788252085447311,
          0.07438746839761734,
          0.09809515625238419,
          0.11751871556043625,
          0.15588520467281342,
          0.06174742802977562,
          0.08848471939563751,
          0.7541217803955078,
          0.05965213105082512,
          0.057298533618450165,
          0.07934331893920898,
          0.37092962861061096,
          0.10397923737764359,
          0.05850221589207649,
          0.0764051079750061,
          0.07439938187599182,
          0.3760266900062561,
          0.13398748636245728,
          0.06397563964128494,
          0.11657469719648361,
          0.06726188957691193,
          0.10898500680923462,
          0.0981256291270256,
          0.6754853129386902,
          0.05797731503844261,
          0.08029620349407196,
          0.18200305104255676,
          0.07356278598308563,
          0.06954813003540039,
          0.06166432797908783,
          0.2117108702659607,
          0.0998757854104042,
          0.07557424902915955,
          0.07733418047428131,
          0.05888417363166809,
          0.07983432710170746,
          0.07366128265857697,
          0.044995591044425964,
          0.10201568901538849,
          0.1361786127090454,
          0.1114213764667511,
          0.05598996579647064,
          0.0824212059378624,
          0.1322171837091446,
          0.334560364484787,
          0.11969289928674698,
          0.16304460167884827,
          0.06970956176519394,
          0.054852116852998734,
          0.21731345355510712,
          0.07267361134290695,
          0.15354090929031372,
          0.07545023411512375,
          0.4723629355430603,
          0.09786859899759293,
          0.07723066210746765,
          0.1637510061264038,
          0.07718512415885925,
          0.06483186781406403,
          0.09685593098402023,
          0.10155749320983887,
          0.47267621755599976,
          0.12179882824420929,
          0.4514175355434418,
          0.18374526500701904,
          0.050396062433719635,
          0.1504100114107132,
          0.7303100228309631,
          0.11862282454967499,
          0.06546596437692642,
          0.07581576704978943,
          0.08663903921842575,
          0.16587896645069122,
          0.056318461894989014,
          0.18194462358951569,
          0.17715655267238617,
          0.09783802181482315,
          0.06961192190647125,
          0.14565187692642212,
          0.3205283582210541,
          0.07089637964963913,
          0.0767294391989708,
          0.06882722675800323,
          0.18095506727695465,
          0.055314041674137115,
          0.09991439431905746,
          0.07088177651166916,
          0.1065356507897377
         ],
         "y0": " ",
         "yaxis": "y"
        },
        {
         "alignmentgroup": "True",
         "box": {
          "visible": true
         },
         "hovertemplate": "true_sent=1<br>pred_sent=%{y}<extra></extra>",
         "legendgroup": "1",
         "marker": {
          "color": "#EF553B"
         },
         "name": "1",
         "offsetgroup": "1",
         "orientation": "v",
         "points": "all",
         "scalegroup": "True",
         "showlegend": true,
         "type": "violin",
         "x0": " ",
         "xaxis": "x",
         "y": [
          0.76482754945755,
          0.9112855792045593,
          0.954106330871582,
          0.7985974550247192,
          0.8971915245056152,
          0.9587374925613403,
          0.37663647532463074,
          0.9735720157623291,
          0.9394732117652893,
          0.7600790858268738,
          0.9571280479431152,
          0.34821441769599915,
          0.41319987177848816,
          0.0977361723780632,
          0.9267396330833435,
          0.38329777121543884,
          0.907772421836853,
          0.8177425861358643,
          0.8432862758636475,
          0.881940484046936,
          0.9535207152366638,
          0.8818137645721436,
          0.9098624587059021,
          0.9118980765342712,
          0.8237963914871216,
          0.942013144493103,
          0.9534964561462402,
          0.9379919171333313,
          0.9269053339958191,
          0.6495075821876526,
          0.7100573182106018,
          0.9307449460029602,
          0.8424352407455444,
          0.9315308928489685,
          0.864465057849884,
          0.4471336603164673,
          0.9643545746803284,
          0.5382794737815857,
          0.8767748475074768,
          0.9358274936676025,
          0.9738711714744568,
          0.9603848457336426,
          0.905137300491333,
          0.8316025137901306,
          0.9024596810340881,
          0.9505707025527954,
          0.9554300308227539,
          0.7412588596343994,
          0.8553378582000732,
          0.8392361998558044,
          0.8825039863586426,
          0.6564908027648926,
          0.9213240146636963,
          0.5067151188850403,
          0.8473960161209106,
          0.17303690314292908,
          0.24921028316020966,
          0.9105499386787415,
          0.9713937640190125,
          0.9131272435188293,
          0.3018587529659271,
          0.5252927541732788,
          0.9309529066085815,
          0.35564377903938293,
          0.9118225574493408,
          0.9254021644592285,
          0.9610782265663147,
          0.9361724853515625,
          0.7929880023002625,
          0.9113520979881287,
          0.05636235699057579,
          0.9535117149353027,
          0.7343083024024963,
          0.5374576449394226,
          0.9570184946060181,
          0.9455667734146118,
          0.9630579948425293,
          0.37912827730178833,
          0.8790581822395325,
          0.918775200843811,
          0.9523659944534302,
          0.9045140743255615,
          0.8599153161048889,
          0.8934615850448608,
          0.48857611417770386,
          0.3483837842941284,
          0.9438796639442444,
          0.826550304889679,
          0.9535784721374512,
          0.9442204833030701,
          0.9354956150054932,
          0.9534227252006531,
          0.7186112403869629,
          0.9613941311836243,
          0.2749509811401367,
          0.18150047957897186,
          0.7939265966415405,
          0.9567516446113586,
          0.9058778285980225,
          0.9018892645835876,
          0.9254191517829895,
          0.8731584548950195,
          0.8256372213363647
         ],
         "y0": " ",
         "yaxis": "y"
        }
       ],
       "layout": {
        "legend": {
         "title": {
          "text": "true_sent"
         },
         "tracegroupgap": 0
        },
        "margin": {
         "t": 60
        },
        "template": {
         "data": {
          "bar": [
           {
            "error_x": {
             "color": "#f2f5fa"
            },
            "error_y": {
             "color": "#f2f5fa"
            },
            "marker": {
             "line": {
              "color": "rgb(17,17,17)",
              "width": 0.5
             },
             "pattern": {
              "fillmode": "overlay",
              "size": 10,
              "solidity": 0.2
             }
            },
            "type": "bar"
           }
          ],
          "barpolar": [
           {
            "marker": {
             "line": {
              "color": "rgb(17,17,17)",
              "width": 0.5
             },
             "pattern": {
              "fillmode": "overlay",
              "size": 10,
              "solidity": 0.2
             }
            },
            "type": "barpolar"
           }
          ],
          "carpet": [
           {
            "aaxis": {
             "endlinecolor": "#A2B1C6",
             "gridcolor": "#506784",
             "linecolor": "#506784",
             "minorgridcolor": "#506784",
             "startlinecolor": "#A2B1C6"
            },
            "baxis": {
             "endlinecolor": "#A2B1C6",
             "gridcolor": "#506784",
             "linecolor": "#506784",
             "minorgridcolor": "#506784",
             "startlinecolor": "#A2B1C6"
            },
            "type": "carpet"
           }
          ],
          "choropleth": [
           {
            "colorbar": {
             "outlinewidth": 0,
             "ticks": ""
            },
            "type": "choropleth"
           }
          ],
          "contour": [
           {
            "colorbar": {
             "outlinewidth": 0,
             "ticks": ""
            },
            "colorscale": [
             [
              0,
              "#0d0887"
             ],
             [
              0.1111111111111111,
              "#46039f"
             ],
             [
              0.2222222222222222,
              "#7201a8"
             ],
             [
              0.3333333333333333,
              "#9c179e"
             ],
             [
              0.4444444444444444,
              "#bd3786"
             ],
             [
              0.5555555555555556,
              "#d8576b"
             ],
             [
              0.6666666666666666,
              "#ed7953"
             ],
             [
              0.7777777777777778,
              "#fb9f3a"
             ],
             [
              0.8888888888888888,
              "#fdca26"
             ],
             [
              1,
              "#f0f921"
             ]
            ],
            "type": "contour"
           }
          ],
          "contourcarpet": [
           {
            "colorbar": {
             "outlinewidth": 0,
             "ticks": ""
            },
            "type": "contourcarpet"
           }
          ],
          "heatmap": [
           {
            "colorbar": {
             "outlinewidth": 0,
             "ticks": ""
            },
            "colorscale": [
             [
              0,
              "#0d0887"
             ],
             [
              0.1111111111111111,
              "#46039f"
             ],
             [
              0.2222222222222222,
              "#7201a8"
             ],
             [
              0.3333333333333333,
              "#9c179e"
             ],
             [
              0.4444444444444444,
              "#bd3786"
             ],
             [
              0.5555555555555556,
              "#d8576b"
             ],
             [
              0.6666666666666666,
              "#ed7953"
             ],
             [
              0.7777777777777778,
              "#fb9f3a"
             ],
             [
              0.8888888888888888,
              "#fdca26"
             ],
             [
              1,
              "#f0f921"
             ]
            ],
            "type": "heatmap"
           }
          ],
          "heatmapgl": [
           {
            "colorbar": {
             "outlinewidth": 0,
             "ticks": ""
            },
            "colorscale": [
             [
              0,
              "#0d0887"
             ],
             [
              0.1111111111111111,
              "#46039f"
             ],
             [
              0.2222222222222222,
              "#7201a8"
             ],
             [
              0.3333333333333333,
              "#9c179e"
             ],
             [
              0.4444444444444444,
              "#bd3786"
             ],
             [
              0.5555555555555556,
              "#d8576b"
             ],
             [
              0.6666666666666666,
              "#ed7953"
             ],
             [
              0.7777777777777778,
              "#fb9f3a"
             ],
             [
              0.8888888888888888,
              "#fdca26"
             ],
             [
              1,
              "#f0f921"
             ]
            ],
            "type": "heatmapgl"
           }
          ],
          "histogram": [
           {
            "marker": {
             "pattern": {
              "fillmode": "overlay",
              "size": 10,
              "solidity": 0.2
             }
            },
            "type": "histogram"
           }
          ],
          "histogram2d": [
           {
            "colorbar": {
             "outlinewidth": 0,
             "ticks": ""
            },
            "colorscale": [
             [
              0,
              "#0d0887"
             ],
             [
              0.1111111111111111,
              "#46039f"
             ],
             [
              0.2222222222222222,
              "#7201a8"
             ],
             [
              0.3333333333333333,
              "#9c179e"
             ],
             [
              0.4444444444444444,
              "#bd3786"
             ],
             [
              0.5555555555555556,
              "#d8576b"
             ],
             [
              0.6666666666666666,
              "#ed7953"
             ],
             [
              0.7777777777777778,
              "#fb9f3a"
             ],
             [
              0.8888888888888888,
              "#fdca26"
             ],
             [
              1,
              "#f0f921"
             ]
            ],
            "type": "histogram2d"
           }
          ],
          "histogram2dcontour": [
           {
            "colorbar": {
             "outlinewidth": 0,
             "ticks": ""
            },
            "colorscale": [
             [
              0,
              "#0d0887"
             ],
             [
              0.1111111111111111,
              "#46039f"
             ],
             [
              0.2222222222222222,
              "#7201a8"
             ],
             [
              0.3333333333333333,
              "#9c179e"
             ],
             [
              0.4444444444444444,
              "#bd3786"
             ],
             [
              0.5555555555555556,
              "#d8576b"
             ],
             [
              0.6666666666666666,
              "#ed7953"
             ],
             [
              0.7777777777777778,
              "#fb9f3a"
             ],
             [
              0.8888888888888888,
              "#fdca26"
             ],
             [
              1,
              "#f0f921"
             ]
            ],
            "type": "histogram2dcontour"
           }
          ],
          "mesh3d": [
           {
            "colorbar": {
             "outlinewidth": 0,
             "ticks": ""
            },
            "type": "mesh3d"
           }
          ],
          "parcoords": [
           {
            "line": {
             "colorbar": {
              "outlinewidth": 0,
              "ticks": ""
             }
            },
            "type": "parcoords"
           }
          ],
          "pie": [
           {
            "automargin": true,
            "type": "pie"
           }
          ],
          "scatter": [
           {
            "marker": {
             "line": {
              "color": "#283442"
             }
            },
            "type": "scatter"
           }
          ],
          "scatter3d": [
           {
            "line": {
             "colorbar": {
              "outlinewidth": 0,
              "ticks": ""
             }
            },
            "marker": {
             "colorbar": {
              "outlinewidth": 0,
              "ticks": ""
             }
            },
            "type": "scatter3d"
           }
          ],
          "scattercarpet": [
           {
            "marker": {
             "colorbar": {
              "outlinewidth": 0,
              "ticks": ""
             }
            },
            "type": "scattercarpet"
           }
          ],
          "scattergeo": [
           {
            "marker": {
             "colorbar": {
              "outlinewidth": 0,
              "ticks": ""
             }
            },
            "type": "scattergeo"
           }
          ],
          "scattergl": [
           {
            "marker": {
             "line": {
              "color": "#283442"
             }
            },
            "type": "scattergl"
           }
          ],
          "scattermapbox": [
           {
            "marker": {
             "colorbar": {
              "outlinewidth": 0,
              "ticks": ""
             }
            },
            "type": "scattermapbox"
           }
          ],
          "scatterpolar": [
           {
            "marker": {
             "colorbar": {
              "outlinewidth": 0,
              "ticks": ""
             }
            },
            "type": "scatterpolar"
           }
          ],
          "scatterpolargl": [
           {
            "marker": {
             "colorbar": {
              "outlinewidth": 0,
              "ticks": ""
             }
            },
            "type": "scatterpolargl"
           }
          ],
          "scatterternary": [
           {
            "marker": {
             "colorbar": {
              "outlinewidth": 0,
              "ticks": ""
             }
            },
            "type": "scatterternary"
           }
          ],
          "surface": [
           {
            "colorbar": {
             "outlinewidth": 0,
             "ticks": ""
            },
            "colorscale": [
             [
              0,
              "#0d0887"
             ],
             [
              0.1111111111111111,
              "#46039f"
             ],
             [
              0.2222222222222222,
              "#7201a8"
             ],
             [
              0.3333333333333333,
              "#9c179e"
             ],
             [
              0.4444444444444444,
              "#bd3786"
             ],
             [
              0.5555555555555556,
              "#d8576b"
             ],
             [
              0.6666666666666666,
              "#ed7953"
             ],
             [
              0.7777777777777778,
              "#fb9f3a"
             ],
             [
              0.8888888888888888,
              "#fdca26"
             ],
             [
              1,
              "#f0f921"
             ]
            ],
            "type": "surface"
           }
          ],
          "table": [
           {
            "cells": {
             "fill": {
              "color": "#506784"
             },
             "line": {
              "color": "rgb(17,17,17)"
             }
            },
            "header": {
             "fill": {
              "color": "#2a3f5f"
             },
             "line": {
              "color": "rgb(17,17,17)"
             }
            },
            "type": "table"
           }
          ]
         },
         "layout": {
          "annotationdefaults": {
           "arrowcolor": "#f2f5fa",
           "arrowhead": 0,
           "arrowwidth": 1
          },
          "autotypenumbers": "strict",
          "coloraxis": {
           "colorbar": {
            "outlinewidth": 0,
            "ticks": ""
           }
          },
          "colorscale": {
           "diverging": [
            [
             0,
             "#8e0152"
            ],
            [
             0.1,
             "#c51b7d"
            ],
            [
             0.2,
             "#de77ae"
            ],
            [
             0.3,
             "#f1b6da"
            ],
            [
             0.4,
             "#fde0ef"
            ],
            [
             0.5,
             "#f7f7f7"
            ],
            [
             0.6,
             "#e6f5d0"
            ],
            [
             0.7,
             "#b8e186"
            ],
            [
             0.8,
             "#7fbc41"
            ],
            [
             0.9,
             "#4d9221"
            ],
            [
             1,
             "#276419"
            ]
           ],
           "sequential": [
            [
             0,
             "#0d0887"
            ],
            [
             0.1111111111111111,
             "#46039f"
            ],
            [
             0.2222222222222222,
             "#7201a8"
            ],
            [
             0.3333333333333333,
             "#9c179e"
            ],
            [
             0.4444444444444444,
             "#bd3786"
            ],
            [
             0.5555555555555556,
             "#d8576b"
            ],
            [
             0.6666666666666666,
             "#ed7953"
            ],
            [
             0.7777777777777778,
             "#fb9f3a"
            ],
            [
             0.8888888888888888,
             "#fdca26"
            ],
            [
             1,
             "#f0f921"
            ]
           ],
           "sequentialminus": [
            [
             0,
             "#0d0887"
            ],
            [
             0.1111111111111111,
             "#46039f"
            ],
            [
             0.2222222222222222,
             "#7201a8"
            ],
            [
             0.3333333333333333,
             "#9c179e"
            ],
            [
             0.4444444444444444,
             "#bd3786"
            ],
            [
             0.5555555555555556,
             "#d8576b"
            ],
            [
             0.6666666666666666,
             "#ed7953"
            ],
            [
             0.7777777777777778,
             "#fb9f3a"
            ],
            [
             0.8888888888888888,
             "#fdca26"
            ],
            [
             1,
             "#f0f921"
            ]
           ]
          },
          "colorway": [
           "#636efa",
           "#EF553B",
           "#00cc96",
           "#ab63fa",
           "#FFA15A",
           "#19d3f3",
           "#FF6692",
           "#B6E880",
           "#FF97FF",
           "#FECB52"
          ],
          "font": {
           "color": "#f2f5fa"
          },
          "geo": {
           "bgcolor": "rgb(17,17,17)",
           "lakecolor": "rgb(17,17,17)",
           "landcolor": "rgb(17,17,17)",
           "showlakes": true,
           "showland": true,
           "subunitcolor": "#506784"
          },
          "hoverlabel": {
           "align": "left"
          },
          "hovermode": "closest",
          "mapbox": {
           "style": "dark"
          },
          "paper_bgcolor": "rgb(17,17,17)",
          "plot_bgcolor": "rgb(17,17,17)",
          "polar": {
           "angularaxis": {
            "gridcolor": "#506784",
            "linecolor": "#506784",
            "ticks": ""
           },
           "bgcolor": "rgb(17,17,17)",
           "radialaxis": {
            "gridcolor": "#506784",
            "linecolor": "#506784",
            "ticks": ""
           }
          },
          "scene": {
           "xaxis": {
            "backgroundcolor": "rgb(17,17,17)",
            "gridcolor": "#506784",
            "gridwidth": 2,
            "linecolor": "#506784",
            "showbackground": true,
            "ticks": "",
            "zerolinecolor": "#C8D4E3"
           },
           "yaxis": {
            "backgroundcolor": "rgb(17,17,17)",
            "gridcolor": "#506784",
            "gridwidth": 2,
            "linecolor": "#506784",
            "showbackground": true,
            "ticks": "",
            "zerolinecolor": "#C8D4E3"
           },
           "zaxis": {
            "backgroundcolor": "rgb(17,17,17)",
            "gridcolor": "#506784",
            "gridwidth": 2,
            "linecolor": "#506784",
            "showbackground": true,
            "ticks": "",
            "zerolinecolor": "#C8D4E3"
           }
          },
          "shapedefaults": {
           "line": {
            "color": "#f2f5fa"
           }
          },
          "sliderdefaults": {
           "bgcolor": "#C8D4E3",
           "bordercolor": "rgb(17,17,17)",
           "borderwidth": 1,
           "tickwidth": 0
          },
          "ternary": {
           "aaxis": {
            "gridcolor": "#506784",
            "linecolor": "#506784",
            "ticks": ""
           },
           "baxis": {
            "gridcolor": "#506784",
            "linecolor": "#506784",
            "ticks": ""
           },
           "bgcolor": "rgb(17,17,17)",
           "caxis": {
            "gridcolor": "#506784",
            "linecolor": "#506784",
            "ticks": ""
           }
          },
          "title": {
           "x": 0.05
          },
          "updatemenudefaults": {
           "bgcolor": "#506784",
           "borderwidth": 0
          },
          "xaxis": {
           "automargin": true,
           "gridcolor": "#283442",
           "linecolor": "#506784",
           "ticks": "",
           "title": {
            "standoff": 15
           },
           "zerolinecolor": "#283442",
           "zerolinewidth": 2
          },
          "yaxis": {
           "automargin": true,
           "gridcolor": "#283442",
           "linecolor": "#506784",
           "ticks": "",
           "title": {
            "standoff": 15
           },
           "zerolinecolor": "#283442",
           "zerolinewidth": 2
          }
         }
        },
        "violinmode": "group",
        "xaxis": {
         "anchor": "y",
         "domain": [
          0,
          1
         ]
        },
        "yaxis": {
         "anchor": "x",
         "domain": [
          0,
          1
         ],
         "title": {
          "text": "pred_sent"
         }
        }
       }
      }
     },
     "metadata": {},
     "output_type": "display_data"
    }
   ],
   "source": [
    "px.violin(df, y=\"pred_sent\", box=True, points=\"all\", color=\"true_sent\", template=\"plotly_dark\")"
   ]
  },
  {
   "cell_type": "code",
   "execution_count": 28,
   "metadata": {},
   "outputs": [
    {
     "data": {
      "application/vnd.plotly.v1+json": {
       "config": {
        "plotlyServerURL": "https://plot.ly"
       },
       "data": [
        {
         "alignmentgroup": "True",
         "hovertemplate": "true_star=%{x}<br>pred_star=%{y}<extra></extra>",
         "legendgroup": "",
         "marker": {
          "color": "#636efa"
         },
         "name": "",
         "notched": false,
         "offsetgroup": "",
         "orientation": "v",
         "showlegend": false,
         "type": "box",
         "x": [
          1,
          4,
          2,
          1,
          8,
          9,
          8,
          4,
          4,
          4,
          1,
          4,
          7,
          2,
          3,
          10,
          1,
          3,
          9,
          8,
          10,
          4,
          1,
          9,
          8,
          10,
          8,
          7,
          7,
          3,
          4,
          7,
          7,
          8,
          1,
          10,
          2,
          8,
          8,
          2,
          1,
          10,
          1,
          10,
          1,
          2,
          2,
          7,
          9,
          3,
          7,
          3,
          3,
          8,
          8,
          2,
          7,
          1,
          7,
          1,
          1,
          4,
          1,
          7,
          9,
          1,
          4,
          8,
          7,
          4,
          8,
          10,
          1,
          8,
          10,
          8,
          4,
          2,
          1,
          7,
          9,
          8,
          1,
          7,
          9,
          3,
          8,
          1,
          10,
          10,
          1,
          2,
          2,
          1,
          10,
          10,
          10,
          4,
          1,
          7,
          9,
          1,
          3,
          8,
          2,
          10,
          8,
          10,
          10,
          2,
          3,
          2,
          4,
          4,
          10,
          10,
          10,
          8,
          7,
          7,
          9,
          4,
          8,
          10,
          2,
          4,
          10,
          8,
          1,
          10,
          10,
          3,
          10,
          9,
          10,
          1,
          8,
          1,
          7,
          10,
          1,
          9,
          1,
          10,
          10,
          1,
          8,
          10,
          10,
          10,
          8,
          8,
          2,
          8,
          8,
          1,
          4,
          2,
          3,
          1,
          10,
          8,
          2,
          4,
          2,
          1,
          1,
          3,
          9,
          10,
          2,
          4,
          8,
          1,
          3,
          1,
          4,
          3,
          10,
          3,
          9,
          9,
          10,
          3,
          7,
          10,
          1,
          4,
          1,
          10,
          4,
          3,
          2,
          10,
          8,
          1,
          1,
          10,
          8,
          8
         ],
         "x0": " ",
         "xaxis": "x",
         "y": [
          2.2614309787750244,
          3.100717544555664,
          3.5351314544677734,
          3.2549545764923096,
          6.255582332611084,
          9.040002822875977,
          8.560131072998047,
          4.121788024902344,
          3.9688172340393066,
          2.6714348793029785,
          3.0564534664154053,
          3.892190456390381,
          7.922059059143066,
          2.494962692260742,
          3.208939552307129,
          8.851961135864258,
          1.4873075485229492,
          2.691943645477295,
          9.701896667480469,
          4.874831676483154,
          8.905888557434082,
          3.48585844039917,
          1.039426565170288,
          9.24555778503418,
          7.898627281188965,
          9.700813293457031,
          5.20219087600708,
          5.748044013977051,
          2.6270320415496826,
          3.101649284362793,
          6.897618293762207,
          8.100808143615723,
          5.2523884773254395,
          8.04210090637207,
          1.782522201538086,
          8.247127532958984,
          3.3312785625457764,
          7.799822807312012,
          8.822675704956055,
          1.6988816261291504,
          4.859255313873291,
          9.4222412109375,
          2.9777026176452637,
          9.332599639892578,
          2.624950647354126,
          1.3279743194580078,
          2.923952102661133,
          8.834077835083008,
          8.43331527709961,
          5.0592803955078125,
          8.327698707580566,
          1.9279005527496338,
          3.3789803981781006,
          8.093681335449219,
          9.319762229919434,
          3.7015738487243652,
          9.54731559753418,
          1.249075174331665,
          8.056979179382324,
          2.878004550933838,
          2.7128567695617676,
          6.198421478271484,
          2.964927911758423,
          6.02849006652832,
          7.313137531280518,
          1.3233652114868164,
          3.845487594604492,
          9.071735382080078,
          8.280678749084473,
          3.146002769470215,
          9.911895751953125,
          8.438582420349121,
          1.4949135780334473,
          5.685523509979248,
          8.88382339477539,
          5.848020553588867,
          3.5184013843536377,
          3.5164055824279785,
          3.0422515869140625,
          8.547812461853027,
          8.822407722473145,
          9.120044708251953,
          1.4602911472320557,
          9.726380348205566,
          9.319427490234375,
          2.6545145511627197,
          8.354729652404785,
          2.709054708480835,
          8.156612396240234,
          10.302984237670898,
          0.9185686111450195,
          4.428896427154541,
          3.760824203491211,
          1.7538080215454102,
          9.430732727050781,
          7.618687629699707,
          7.791352272033691,
          2.462191581726074,
          2.7156171798706055,
          7.857843399047852,
          8.01626205444336,
          2.426358699798584,
          3.380007743835449,
          7.045499801635742,
          3.7267515659332275,
          9.142457962036133,
          6.62764310836792,
          8.434412956237793,
          3.067727565765381,
          4.227277755737305,
          3.039853572845459,
          3.1284701824188232,
          2.7530858516693115,
          1.5161540508270264,
          2.971254587173462,
          9.318410873413086,
          9.642692565917969,
          9.558542251586914,
          4.40609884262085,
          6.876962184906006,
          8.32027530670166,
          4.294230937957764,
          5.020290851593018,
          9.10192584991455,
          2.2342042922973633,
          4.106064319610596,
          8.885021209716797,
          9.642784118652344,
          1.6695616245269775,
          8.796746253967285,
          7.812382698059082,
          6.1325788497924805,
          9.041425704956055,
          1.152564287185669,
          8.997819900512695,
          2.7322938442230225,
          8.102642059326172,
          2.028867721557617,
          6.201127529144287,
          8.96298885345459,
          1.6494221687316895,
          9.619324684143066,
          2.4783823490142822,
          9.168964385986328,
          4.829975128173828,
          1.3568484783172607,
          8.83871078491211,
          8.259811401367188,
          8.700453758239746,
          8.612781524658203,
          7.753326416015625,
          8.306356430053711,
          2.615079641342163,
          6.219796657562256,
          4.986254692077637,
          1.7118144035339355,
          5.6321845054626465,
          4.254323959350586,
          5.848165035247803,
          3.135591506958008,
          9.965424537658691,
          9.654457092285156,
          2.5016865730285645,
          3.5262556076049805,
          7.3345046043396,
          2.541689872741699,
          2.9607937335968018,
          3.630174398422241,
          9.302933692932129,
          8.361732482910156,
          1.663475513458252,
          4.2440900802612305,
          9.318459510803223,
          2.2778687477111816,
          5.192873477935791,
          2.759493350982666,
          3.7260279655456543,
          3.917241334915161,
          9.229976654052734,
          4.7713093757629395,
          6.926726341247559,
          8.612021446228027,
          4.312278747558594,
          5.021183490753174,
          4.056008338928223,
          8.506683349609375,
          1.9713733196258545,
          4.043265342712402,
          1.8701186180114746,
          10.936285018920898,
          3.493699073791504,
          2.687608003616333,
          2.8249595165252686,
          8.706023216247559,
          8.305985450744629,
          0.7242279052734375,
          3.0254387855529785,
          8.643318176269531,
          7.938848972320557,
          7.985512733459473
         ],
         "y0": " ",
         "yaxis": "y"
        }
       ],
       "layout": {
        "boxmode": "group",
        "legend": {
         "tracegroupgap": 0
        },
        "margin": {
         "t": 60
        },
        "template": {
         "data": {
          "bar": [
           {
            "error_x": {
             "color": "#f2f5fa"
            },
            "error_y": {
             "color": "#f2f5fa"
            },
            "marker": {
             "line": {
              "color": "rgb(17,17,17)",
              "width": 0.5
             },
             "pattern": {
              "fillmode": "overlay",
              "size": 10,
              "solidity": 0.2
             }
            },
            "type": "bar"
           }
          ],
          "barpolar": [
           {
            "marker": {
             "line": {
              "color": "rgb(17,17,17)",
              "width": 0.5
             },
             "pattern": {
              "fillmode": "overlay",
              "size": 10,
              "solidity": 0.2
             }
            },
            "type": "barpolar"
           }
          ],
          "carpet": [
           {
            "aaxis": {
             "endlinecolor": "#A2B1C6",
             "gridcolor": "#506784",
             "linecolor": "#506784",
             "minorgridcolor": "#506784",
             "startlinecolor": "#A2B1C6"
            },
            "baxis": {
             "endlinecolor": "#A2B1C6",
             "gridcolor": "#506784",
             "linecolor": "#506784",
             "minorgridcolor": "#506784",
             "startlinecolor": "#A2B1C6"
            },
            "type": "carpet"
           }
          ],
          "choropleth": [
           {
            "colorbar": {
             "outlinewidth": 0,
             "ticks": ""
            },
            "type": "choropleth"
           }
          ],
          "contour": [
           {
            "colorbar": {
             "outlinewidth": 0,
             "ticks": ""
            },
            "colorscale": [
             [
              0,
              "#0d0887"
             ],
             [
              0.1111111111111111,
              "#46039f"
             ],
             [
              0.2222222222222222,
              "#7201a8"
             ],
             [
              0.3333333333333333,
              "#9c179e"
             ],
             [
              0.4444444444444444,
              "#bd3786"
             ],
             [
              0.5555555555555556,
              "#d8576b"
             ],
             [
              0.6666666666666666,
              "#ed7953"
             ],
             [
              0.7777777777777778,
              "#fb9f3a"
             ],
             [
              0.8888888888888888,
              "#fdca26"
             ],
             [
              1,
              "#f0f921"
             ]
            ],
            "type": "contour"
           }
          ],
          "contourcarpet": [
           {
            "colorbar": {
             "outlinewidth": 0,
             "ticks": ""
            },
            "type": "contourcarpet"
           }
          ],
          "heatmap": [
           {
            "colorbar": {
             "outlinewidth": 0,
             "ticks": ""
            },
            "colorscale": [
             [
              0,
              "#0d0887"
             ],
             [
              0.1111111111111111,
              "#46039f"
             ],
             [
              0.2222222222222222,
              "#7201a8"
             ],
             [
              0.3333333333333333,
              "#9c179e"
             ],
             [
              0.4444444444444444,
              "#bd3786"
             ],
             [
              0.5555555555555556,
              "#d8576b"
             ],
             [
              0.6666666666666666,
              "#ed7953"
             ],
             [
              0.7777777777777778,
              "#fb9f3a"
             ],
             [
              0.8888888888888888,
              "#fdca26"
             ],
             [
              1,
              "#f0f921"
             ]
            ],
            "type": "heatmap"
           }
          ],
          "heatmapgl": [
           {
            "colorbar": {
             "outlinewidth": 0,
             "ticks": ""
            },
            "colorscale": [
             [
              0,
              "#0d0887"
             ],
             [
              0.1111111111111111,
              "#46039f"
             ],
             [
              0.2222222222222222,
              "#7201a8"
             ],
             [
              0.3333333333333333,
              "#9c179e"
             ],
             [
              0.4444444444444444,
              "#bd3786"
             ],
             [
              0.5555555555555556,
              "#d8576b"
             ],
             [
              0.6666666666666666,
              "#ed7953"
             ],
             [
              0.7777777777777778,
              "#fb9f3a"
             ],
             [
              0.8888888888888888,
              "#fdca26"
             ],
             [
              1,
              "#f0f921"
             ]
            ],
            "type": "heatmapgl"
           }
          ],
          "histogram": [
           {
            "marker": {
             "pattern": {
              "fillmode": "overlay",
              "size": 10,
              "solidity": 0.2
             }
            },
            "type": "histogram"
           }
          ],
          "histogram2d": [
           {
            "colorbar": {
             "outlinewidth": 0,
             "ticks": ""
            },
            "colorscale": [
             [
              0,
              "#0d0887"
             ],
             [
              0.1111111111111111,
              "#46039f"
             ],
             [
              0.2222222222222222,
              "#7201a8"
             ],
             [
              0.3333333333333333,
              "#9c179e"
             ],
             [
              0.4444444444444444,
              "#bd3786"
             ],
             [
              0.5555555555555556,
              "#d8576b"
             ],
             [
              0.6666666666666666,
              "#ed7953"
             ],
             [
              0.7777777777777778,
              "#fb9f3a"
             ],
             [
              0.8888888888888888,
              "#fdca26"
             ],
             [
              1,
              "#f0f921"
             ]
            ],
            "type": "histogram2d"
           }
          ],
          "histogram2dcontour": [
           {
            "colorbar": {
             "outlinewidth": 0,
             "ticks": ""
            },
            "colorscale": [
             [
              0,
              "#0d0887"
             ],
             [
              0.1111111111111111,
              "#46039f"
             ],
             [
              0.2222222222222222,
              "#7201a8"
             ],
             [
              0.3333333333333333,
              "#9c179e"
             ],
             [
              0.4444444444444444,
              "#bd3786"
             ],
             [
              0.5555555555555556,
              "#d8576b"
             ],
             [
              0.6666666666666666,
              "#ed7953"
             ],
             [
              0.7777777777777778,
              "#fb9f3a"
             ],
             [
              0.8888888888888888,
              "#fdca26"
             ],
             [
              1,
              "#f0f921"
             ]
            ],
            "type": "histogram2dcontour"
           }
          ],
          "mesh3d": [
           {
            "colorbar": {
             "outlinewidth": 0,
             "ticks": ""
            },
            "type": "mesh3d"
           }
          ],
          "parcoords": [
           {
            "line": {
             "colorbar": {
              "outlinewidth": 0,
              "ticks": ""
             }
            },
            "type": "parcoords"
           }
          ],
          "pie": [
           {
            "automargin": true,
            "type": "pie"
           }
          ],
          "scatter": [
           {
            "marker": {
             "line": {
              "color": "#283442"
             }
            },
            "type": "scatter"
           }
          ],
          "scatter3d": [
           {
            "line": {
             "colorbar": {
              "outlinewidth": 0,
              "ticks": ""
             }
            },
            "marker": {
             "colorbar": {
              "outlinewidth": 0,
              "ticks": ""
             }
            },
            "type": "scatter3d"
           }
          ],
          "scattercarpet": [
           {
            "marker": {
             "colorbar": {
              "outlinewidth": 0,
              "ticks": ""
             }
            },
            "type": "scattercarpet"
           }
          ],
          "scattergeo": [
           {
            "marker": {
             "colorbar": {
              "outlinewidth": 0,
              "ticks": ""
             }
            },
            "type": "scattergeo"
           }
          ],
          "scattergl": [
           {
            "marker": {
             "line": {
              "color": "#283442"
             }
            },
            "type": "scattergl"
           }
          ],
          "scattermapbox": [
           {
            "marker": {
             "colorbar": {
              "outlinewidth": 0,
              "ticks": ""
             }
            },
            "type": "scattermapbox"
           }
          ],
          "scatterpolar": [
           {
            "marker": {
             "colorbar": {
              "outlinewidth": 0,
              "ticks": ""
             }
            },
            "type": "scatterpolar"
           }
          ],
          "scatterpolargl": [
           {
            "marker": {
             "colorbar": {
              "outlinewidth": 0,
              "ticks": ""
             }
            },
            "type": "scatterpolargl"
           }
          ],
          "scatterternary": [
           {
            "marker": {
             "colorbar": {
              "outlinewidth": 0,
              "ticks": ""
             }
            },
            "type": "scatterternary"
           }
          ],
          "surface": [
           {
            "colorbar": {
             "outlinewidth": 0,
             "ticks": ""
            },
            "colorscale": [
             [
              0,
              "#0d0887"
             ],
             [
              0.1111111111111111,
              "#46039f"
             ],
             [
              0.2222222222222222,
              "#7201a8"
             ],
             [
              0.3333333333333333,
              "#9c179e"
             ],
             [
              0.4444444444444444,
              "#bd3786"
             ],
             [
              0.5555555555555556,
              "#d8576b"
             ],
             [
              0.6666666666666666,
              "#ed7953"
             ],
             [
              0.7777777777777778,
              "#fb9f3a"
             ],
             [
              0.8888888888888888,
              "#fdca26"
             ],
             [
              1,
              "#f0f921"
             ]
            ],
            "type": "surface"
           }
          ],
          "table": [
           {
            "cells": {
             "fill": {
              "color": "#506784"
             },
             "line": {
              "color": "rgb(17,17,17)"
             }
            },
            "header": {
             "fill": {
              "color": "#2a3f5f"
             },
             "line": {
              "color": "rgb(17,17,17)"
             }
            },
            "type": "table"
           }
          ]
         },
         "layout": {
          "annotationdefaults": {
           "arrowcolor": "#f2f5fa",
           "arrowhead": 0,
           "arrowwidth": 1
          },
          "autotypenumbers": "strict",
          "coloraxis": {
           "colorbar": {
            "outlinewidth": 0,
            "ticks": ""
           }
          },
          "colorscale": {
           "diverging": [
            [
             0,
             "#8e0152"
            ],
            [
             0.1,
             "#c51b7d"
            ],
            [
             0.2,
             "#de77ae"
            ],
            [
             0.3,
             "#f1b6da"
            ],
            [
             0.4,
             "#fde0ef"
            ],
            [
             0.5,
             "#f7f7f7"
            ],
            [
             0.6,
             "#e6f5d0"
            ],
            [
             0.7,
             "#b8e186"
            ],
            [
             0.8,
             "#7fbc41"
            ],
            [
             0.9,
             "#4d9221"
            ],
            [
             1,
             "#276419"
            ]
           ],
           "sequential": [
            [
             0,
             "#0d0887"
            ],
            [
             0.1111111111111111,
             "#46039f"
            ],
            [
             0.2222222222222222,
             "#7201a8"
            ],
            [
             0.3333333333333333,
             "#9c179e"
            ],
            [
             0.4444444444444444,
             "#bd3786"
            ],
            [
             0.5555555555555556,
             "#d8576b"
            ],
            [
             0.6666666666666666,
             "#ed7953"
            ],
            [
             0.7777777777777778,
             "#fb9f3a"
            ],
            [
             0.8888888888888888,
             "#fdca26"
            ],
            [
             1,
             "#f0f921"
            ]
           ],
           "sequentialminus": [
            [
             0,
             "#0d0887"
            ],
            [
             0.1111111111111111,
             "#46039f"
            ],
            [
             0.2222222222222222,
             "#7201a8"
            ],
            [
             0.3333333333333333,
             "#9c179e"
            ],
            [
             0.4444444444444444,
             "#bd3786"
            ],
            [
             0.5555555555555556,
             "#d8576b"
            ],
            [
             0.6666666666666666,
             "#ed7953"
            ],
            [
             0.7777777777777778,
             "#fb9f3a"
            ],
            [
             0.8888888888888888,
             "#fdca26"
            ],
            [
             1,
             "#f0f921"
            ]
           ]
          },
          "colorway": [
           "#636efa",
           "#EF553B",
           "#00cc96",
           "#ab63fa",
           "#FFA15A",
           "#19d3f3",
           "#FF6692",
           "#B6E880",
           "#FF97FF",
           "#FECB52"
          ],
          "font": {
           "color": "#f2f5fa"
          },
          "geo": {
           "bgcolor": "rgb(17,17,17)",
           "lakecolor": "rgb(17,17,17)",
           "landcolor": "rgb(17,17,17)",
           "showlakes": true,
           "showland": true,
           "subunitcolor": "#506784"
          },
          "hoverlabel": {
           "align": "left"
          },
          "hovermode": "closest",
          "mapbox": {
           "style": "dark"
          },
          "paper_bgcolor": "rgb(17,17,17)",
          "plot_bgcolor": "rgb(17,17,17)",
          "polar": {
           "angularaxis": {
            "gridcolor": "#506784",
            "linecolor": "#506784",
            "ticks": ""
           },
           "bgcolor": "rgb(17,17,17)",
           "radialaxis": {
            "gridcolor": "#506784",
            "linecolor": "#506784",
            "ticks": ""
           }
          },
          "scene": {
           "xaxis": {
            "backgroundcolor": "rgb(17,17,17)",
            "gridcolor": "#506784",
            "gridwidth": 2,
            "linecolor": "#506784",
            "showbackground": true,
            "ticks": "",
            "zerolinecolor": "#C8D4E3"
           },
           "yaxis": {
            "backgroundcolor": "rgb(17,17,17)",
            "gridcolor": "#506784",
            "gridwidth": 2,
            "linecolor": "#506784",
            "showbackground": true,
            "ticks": "",
            "zerolinecolor": "#C8D4E3"
           },
           "zaxis": {
            "backgroundcolor": "rgb(17,17,17)",
            "gridcolor": "#506784",
            "gridwidth": 2,
            "linecolor": "#506784",
            "showbackground": true,
            "ticks": "",
            "zerolinecolor": "#C8D4E3"
           }
          },
          "shapedefaults": {
           "line": {
            "color": "#f2f5fa"
           }
          },
          "sliderdefaults": {
           "bgcolor": "#C8D4E3",
           "bordercolor": "rgb(17,17,17)",
           "borderwidth": 1,
           "tickwidth": 0
          },
          "ternary": {
           "aaxis": {
            "gridcolor": "#506784",
            "linecolor": "#506784",
            "ticks": ""
           },
           "baxis": {
            "gridcolor": "#506784",
            "linecolor": "#506784",
            "ticks": ""
           },
           "bgcolor": "rgb(17,17,17)",
           "caxis": {
            "gridcolor": "#506784",
            "linecolor": "#506784",
            "ticks": ""
           }
          },
          "title": {
           "x": 0.05
          },
          "updatemenudefaults": {
           "bgcolor": "#506784",
           "borderwidth": 0
          },
          "xaxis": {
           "automargin": true,
           "gridcolor": "#283442",
           "linecolor": "#506784",
           "ticks": "",
           "title": {
            "standoff": 15
           },
           "zerolinecolor": "#283442",
           "zerolinewidth": 2
          },
          "yaxis": {
           "automargin": true,
           "gridcolor": "#283442",
           "linecolor": "#506784",
           "ticks": "",
           "title": {
            "standoff": 15
           },
           "zerolinecolor": "#283442",
           "zerolinewidth": 2
          }
         }
        },
        "xaxis": {
         "anchor": "y",
         "domain": [
          0,
          1
         ],
         "title": {
          "text": "true_star"
         }
        },
        "yaxis": {
         "anchor": "x",
         "domain": [
          0,
          1
         ],
         "title": {
          "text": "pred_star"
         }
        }
       }
      }
     },
     "metadata": {},
     "output_type": "display_data"
    }
   ],
   "source": [
    "px.box(df, x=\"true_star\", y=\"pred_star\", template=\"plotly_dark\")"
   ]
  },
  {
   "cell_type": "code",
   "execution_count": null,
   "metadata": {},
   "outputs": [],
   "source": []
  }
 ],
 "metadata": {
  "kernelspec": {
   "display_name": "Python 3.10.6 ('arena')",
   "language": "python",
   "name": "python3"
  },
  "language_info": {
   "codemirror_mode": {
    "name": "ipython",
    "version": 3
   },
   "file_extension": ".py",
   "mimetype": "text/x-python",
   "name": "python",
   "nbconvert_exporter": "python",
   "pygments_lexer": "ipython3",
   "version": "3.10.6"
  },
  "orig_nbformat": 4,
  "vscode": {
   "interpreter": {
    "hash": "8b7e6b471291409f54dffbfbdfeccd6f1f2b5fb302e7acf62f723cf276419720"
   }
  }
 },
 "nbformat": 4,
 "nbformat_minor": 2
}
