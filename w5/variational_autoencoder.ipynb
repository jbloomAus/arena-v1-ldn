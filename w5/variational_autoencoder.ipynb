{
 "cells": [
  {
   "cell_type": "code",
   "execution_count": 1,
   "metadata": {},
   "outputs": [],
   "source": [
    "import torch.nn as nn\n",
    "import torch as t\n",
    "from typing import Tuple\n",
    "\n",
    "from torch.nn import Conv2d, Flatten, Linear, ConvTranspose2d, ReLU, Unflatten\n",
    "\n",
    "class VAE(nn.Module):\n",
    "\n",
    "    def __init__(self):\n",
    "        super().__init__()\n",
    "        self.encoder_base = nn.Sequential(\n",
    "            Conv2d(1, 16, kernel_size=4, stride=2, padding=1),\n",
    "            Conv2d(16, 32, kernel_size=4, stride=2, padding=1),\n",
    "            Flatten(),\n",
    "            Linear(32*7*7, 100),\n",
    "        )\n",
    "\n",
    "        self.encoder_mu = nn.Linear(100,5)\n",
    "        self.encoder_sigma = nn.Linear(100,5) # outputs log(sigma)\n",
    "\n",
    "        self.decoder = nn.Sequential(\n",
    "            Linear(5, 100),\n",
    "            Linear(100, 32*7*7),\n",
    "            nn.ReLU(),\n",
    "            Unflatten(1, (32, 7, 7)),\n",
    "            ConvTranspose2d(32, 16, kernel_size=4, stride=2, padding=1),\n",
    "            ConvTranspose2d(16, 1, kernel_size=4, stride=2, padding=1)\n",
    "        )\n",
    "    def forward(self, x: t.Tensor) -> Tuple[t.Tensor, t.Tensor, t.Tensor]:\n",
    "        '''\n",
    "        Returns a tuple of (mu, logsigma, z), where:\n",
    "            mu and logsigma are the outputs of your encoder module\n",
    "            z is the sampled latent vector taken from distribution N(mu, sigma**2)\n",
    "        '''\n",
    "        x = self.encoder_base(x)\n",
    "        mu = self.encoder_mu(x)\n",
    "        logsigma = self.encoder_sigma(x)\n",
    "        z = mu + t.exp(logsigma) * t.randn_like(mu)\n",
    "        output = self.decoder(z)\n",
    "        return mu, logsigma, output"
   ]
  },
  {
   "cell_type": "code",
   "execution_count": 2,
   "metadata": {},
   "outputs": [
    {
     "name": "stderr",
     "output_type": "stream",
     "text": [
      "/Users/josephbloom/miniforge3/envs/arena/lib/python3.10/site-packages/torchvision/io/image.py:13: UserWarning: Failed to load image Python extension: dlopen(/Users/josephbloom/miniforge3/envs/arena/lib/python3.10/site-packages/torchvision/image.so, 0x0006): Symbol not found: __ZN3c106detail19maybe_wrap_dim_slowExxb\n",
      "  Referenced from: <D9493EF5-8DAB-3A5D-85D5-684F04544B84> /Users/josephbloom/miniforge3/envs/arena/lib/python3.10/site-packages/torchvision/image.so\n",
      "  Expected in:     <52337463-FA04-3610-8715-68C586545714> /Users/josephbloom/miniforge3/envs/arena/lib/python3.10/site-packages/torch/lib/libc10.dylib\n",
      "  warn(f\"Failed to load image Python extension: {e}\")\n"
     ]
    },
    {
     "data": {
      "image/png": "[encoded data removed]",
      "text/plain": [
       "<Figure size 1000x400 with 10 Axes>"
      ]
     },
     "metadata": {},
     "output_type": "display_data"
    }
   ],
   "source": [
    "# load l2 loss\n",
    "criterion = nn.MSELoss()\n",
    "\n",
    "# load mnist data with torch vision\n",
    "from torch.utils.data import DataLoader\n",
    "from torchvision.datasets import MNIST\n",
    "from torchvision.transforms import ToTensor\n",
    "\n",
    "train_data = MNIST(root='data', train=True, download=True, transform=ToTensor())\n",
    "test_data = MNIST(root='data', train=False, download=True, transform=ToTensor())\n",
    "\n",
    "train_loader = DataLoader(train_data, batch_size=64, shuffle=True)\n",
    "test_loader = DataLoader(test_data, batch_size=64, shuffle=True)\n",
    "\n",
    "# visualize data\n",
    "import matplotlib.pyplot as plt\n",
    "import numpy as np\n",
    "\n",
    "def show_images(images: t.Tensor):\n",
    "    images = images.reshape(-1, 28, 28)\n",
    "    images = images.detach().numpy()\n",
    "    fig, axes = plt.subplots(2, 5, figsize=(10, 4))\n",
    "    for i, ax in enumerate(axes.flatten()):\n",
    "        ax.imshow(images[i], cmap='gray')\n",
    "    plt.show()\n",
    "\n",
    "images, labels = next(iter(train_loader))\n",
    "show_images(images)"
   ]
  },
  {
   "cell_type": "code",
   "execution_count": 3,
   "metadata": {},
   "outputs": [],
   "source": [
    "oy_vae = VAE()\n",
    "\n",
    "# load optimizer\n",
    "optimizer = t.optim.Adam(oy_vae.parameters(), lr=1e-3)\n",
    "loss_fn_1 = nn.MSELoss()\n",
    "\n",
    "def loss_fn(recon_x, x, mu, logvar):\n",
    "    MSE = loss_fn_1(recon_x, x)\n",
    "    KLD = -0.5 * t.sum(0.5*(mu.pow(2) + logvar.exp().exp(2) - 1) - logvar)\n",
    "    return MSE + KLD\n",
    "\n"
   ]
  },
  {
   "cell_type": "code",
   "execution_count": null,
   "metadata": {},
   "outputs": [],
   "source": []
  }
 ],
 "metadata": {
  "kernelspec": {
   "display_name": "Python 3.10.6 ('arena')",
   "language": "python",
   "name": "python3"
  },
  "language_info": {
   "codemirror_mode": {
    "name": "ipython",
    "version": 3
   },
   "file_extension": ".py",
   "mimetype": "text/x-python",
   "name": "python",
   "nbconvert_exporter": "python",
   "pygments_lexer": "ipython3",
   "version": "3.10.6"
  },
  "orig_nbformat": 4,
  "vscode": {
   "interpreter": {
    "hash": "8b7e6b471291409f54dffbfbdfeccd6f1f2b5fb302e7acf62f723cf276419720"
   }
  }
 },
 "nbformat": 4,
 "nbformat_minor": 2
}
