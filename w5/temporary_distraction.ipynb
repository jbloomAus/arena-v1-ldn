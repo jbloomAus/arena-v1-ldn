{
 "cells": [
  {
   "cell_type": "code",
   "execution_count": 36,
   "metadata": {},
   "outputs": [
    {
     "name": "stdout",
     "output_type": "stream",
     "text": [
      "263\n",
      "['Gial', 'Ackbar', 'Stass', 'Allie', 'Almec', 'Mas', 'Amedda', 'Padmé', 'Amidala', 'Cassian', 'Andor', 'The', 'Armorer', 'Colton', 'Raymus', 'Antilles', 'Wedge', 'Antilles', 'Ryder', 'Azadi', 'Azmorigan', 'Ponda', 'Baba', 'Cad', 'Bane', 'Darth', 'Bane', 'Tobias', 'Beckett', 'Val', 'Beckett', 'The', 'Bendu', 'Sio', 'Bibble', 'Depa', 'Billaba', 'Jar', 'Jar', 'Binks', 'Zorii', 'Bliss', 'Lux', 'Bonteri', 'Bossk', 'Ezra', 'Bridger', 'Bix', 'Caleen', 'Lando', 'Calrissian', 'Chewbacca', 'Cid', 'The', 'Client', 'Rush', 'Clovis', 'Commander', 'Cody', 'Kaydel', 'Ko', 'Connix', 'Eno', 'Cordova', 'Crosshair', 'Salacious', 'Crumb', 'Figrin', 'Poe', 'Dameron', 'Biggs', 'Darklighter', 'The', 'Daughter', 'Mee', 'Deechi', 'Dengar', 'DJ', 'Din', 'Djarin', 'The', 'Mandalorian', 'Tan', 'Divo', 'Lott', 'Dod', 'Jan', 'Dodonna', 'Count', 'Dooku', 'Darth', 'Tyranus', 'Cin', 'Drallig', 'Garven', 'Dreis', 'Caleb', 'Dume', 'Kanan', 'Jarrus', 'Cara', 'Dune', 'Rio', 'Durant', 'Tala', 'Durith', 'Echo', 'The', 'Eighth', 'Brother', 'Morgan', 'Elsbeth', 'Embo', 'Galen', 'Erso', 'Jyn', 'Erso', 'Cornelius', 'Evazan', 'Onaconda', 'Farr', 'The', 'Father', 'Boba', 'Fett', 'Jango', 'Fett', 'The', 'Fifth', 'Brother', 'Finn', 'Kit', 'Fisto', 'Fives', 'Bib', 'Fortuna', 'Babu', 'Frik', 'Garsa', 'Fwip', 'Adi', 'Gallia', 'Garindan', 'Saw', 'Gerrera', 'Steela', 'Gerrera', 'Moff', 'Gideon', 'The', 'Grand', 'Inquisitor', 'Commander', 'Gree', 'Greedo', 'Captain', 'Gregor', 'Grievous', 'Grogu', 'The', 'Child', 'Nute', 'Gunray', 'Rune', 'Haako', 'Valin', 'Hess', 'Amilyn', 'Holdo', 'Hunter', 'Armitage', 'Hux', 'Chirrut', 'Îmwe', 'Jabba', 'the', 'Hutt', 'Jannah', 'Jesse', 'Dexter', 'Jettster', 'Tiaan', 'Jerjerrod', 'Jinn', 'Cere', 'Junda', 'Alexsandr', 'Kallus', 'Maz', 'Kanata', 'Greef', 'Karga', 'Syril', 'Karn', 'Kassius', 'Konstantine', 'Katuunko', 'Kenobi', 'Ben', 'Kenobi', 'Cal', 'Kestis', 'Agen', 'Kolar', 'Plo', 'Koon', 'Eeth', 'Koth', 'Pong', 'Krell', 'Orson', 'Krennic', 'Marg', 'Krim', 'Black', 'Krrsantan', 'Kryze', 'Satine', 'Kryze', 'Kuiil', 'Beru', 'Whitesun', 'Lars', 'Cliegg', 'Lars', 'Owen', 'Lars', 'Cut', 'Lawquane', 'Zare', 'Leonis', 'Lobot', 'Kino', 'Loy', 'Crix', 'Madine', 'Baze', 'Malbus', 'Taron', 'Malicos', 'Rafa', 'and', 'Trace', 'Martez', 'Darth', 'Maul', 'Migs', 'Mayfeld', 'Mart', 'Mattin', 'Dedra', 'Meero', 'Ruescott', 'Melshi', 'Sly', 'Moore', 'Mon', 'Mothma', 'Peli', 'Motto', 'Rugor', 'Nass', 'Enfys', 'Nest', 'Jocasta', 'Nu', 'Nien', 'Nunb', 'Commander', 'Odd', 'Ball', 'Barriss', 'Offee', 'Hondo', 'Ohnaka', 'Ric', 'Olié', 'Omega', 'Ketsu', 'Onyo', 'Oola', 'Savage', 'Opress', 'Bail', 'Organa', 'Breha', 'Organa', 'Leia', 'Organa', 'Garazeb', 'Zeb', 'Orrelios', 'Sheev', 'Palpatine', 'Darth', 'Sidious', 'Quarsh', 'Panaka', 'Baron', 'Papanoida', 'Doctor', 'Pershing', 'Captain', 'Phasma', 'Even', 'Piell', 'Firmus', 'Piett', 'Unkar', 'Plutt', 'Poggle', 'the', 'Lesser', 'Commander', 'Ponds', 'Yarael', 'Poof', 'Jek', 'Porkins', 'Arihnda', 'Pryce', 'Enric', 'Pryde', 'Lom', 'Pyke', 'Quarrie', 'Raddus', 'Luthen', 'Rael', 'Dak', 'Ralter', 'Oppo', 'Rancisis', 'Fen', 'Rau', 'Max', 'Rebo', 'Ren', 'Captain', 'Rex', 'Rey', 'Nossor', 'Ri', 'Bodhi', 'Rook', 'Roshti', 'Rukh', 'Sabé', 'Vel', 'Sartha', 'Jun', 'Sato', 'Gar', 'Saxon', 'Tiber', 'Saxon', 'Nala', 'Se', 'Sebulba', 'Aayla', 'Secura', 'Zev', 'Senesca', 'Reva', 'Sevander', 'Third', 'Sister', 'The', 'Seventh', 'Sister', 'Fennec', 'Shand', 'Aurra', 'Sing', 'Tera', 'Sinube', 'The', 'Sixth', 'Brother', 'Anakin', 'Skywalker', 'Darth', 'Vader', 'Luke', 'Skywalker', 'Shmi', 'Skywalker', 'Snoke', 'Sy', 'Snootles', 'Osi', 'Sobek', 'Ben', 'Solo', 'Kylo', 'Ren', 'Han', 'Solo', 'The', 'Son', 'Lama', 'Su', 'Trilla', 'Suduri', 'The', 'Second', 'Sister', 'Cham', 'Syndulla', 'Hera', 'Syndulla', 'Orn', 'Free', 'Taa', 'Mother', 'Talzin', 'Wat', 'Tambor', 'Ahsoka', 'Tano', 'Fulcrum', 'Wilhuff', 'Tarkin', 'Tarrful', 'Roos', 'Tarpals', 'Jaro', 'Tapal', 'Tech', 'Lor', 'San', 'Tekka', 'Carson', 'Teva', 'Thrawn', 'Shaak', 'Ti', 'Rose', 'Tico', 'Saesee', 'Tiin', 'Meena', 'Tills', 'Trench', 'Tup', 'Gregar', 'Typho', 'Luminara', 'Unduli', 'Finis', 'Valorum', 'Cobb', 'Vanth', 'Maximilian', 'Veers', 'Asajj', 'Ventress', 'Iden', 'Versio', 'Cikatro', 'Vizago', 'Paz', 'Vizsla', 'Pre', 'Vizsla', 'Dryden', 'Vos', 'Quinlan', 'Vos', 'Wicket', 'Warrick', 'Watto', 'Taun', 'We', 'Zam', 'Wesell', 'Temmin', 'Snap', 'Wexley', 'Mace', 'Windu', 'Commander', 'Wolffe', 'Wrecker', 'Sabine', 'Wren', 'Yaddle', 'Yoda', 'Wullf', 'Yularen', 'Ziro', 'the', 'Hutt', 'Zuckuss']\n"
     ]
    }
   ],
   "source": [
    "import requests\n",
    "from bs4 import BeautifulSoup\n",
    "\n",
    "\n",
    "WIKIPEDIA_CHARACTER_NAMES = \"https://en.wikipedia.org/wiki/List_of_Star_Wars_characters\"\n",
    "\n",
    "# use requests to download the page\n",
    "WIKIPEDIA_CHARACTER_NAMES = \"https://en.wikipedia.org/wiki/List_of_Star_Wars_characters\"\n",
    "response = requests.get(WIKIPEDIA_CHARACTER_NAMES)\n",
    "\n",
    "# load the page into BeautifulSoup\n",
    "soup = BeautifulSoup(response.text)\n",
    "\n",
    "# load all h3, then get the text\n",
    "h3s = soup.find_all(\"h3\")\n",
    "print(len(h3s))\n",
    "name_list = []\n",
    "for h3 in h3s[:-9]:\n",
    "    # print(h3.get_text().strip().replace(\"[edit]\", \"\"))\n",
    "    name_list.append(h3.get_text().strip().replace(\"[edit]\", \"\"))\n",
    "# print(name_list)\n",
    "\n",
    "# split all names on spaces\n",
    "name_list = [name.split(\" \") for name in name_list]\n",
    "# flatten list\n",
    "name_list = [name for names in name_list for name in names]\n",
    "# remove apostrophes\n",
    "name_list = [name.replace(\"\\\"\", \"\")for name in name_list]\n",
    "# remove empty strings or strings with only punctuation\n",
    "name_list = [name for name in name_list if name.isalpha()]\n",
    "print(name_list)"
   ]
  },
  {
   "cell_type": "code",
   "execution_count": 48,
   "metadata": {},
   "outputs": [
    {
     "data": {
      "text/plain": [
       "'Meero Mart'"
      ]
     },
     "execution_count": 48,
     "metadata": {},
     "output_type": "execute_result"
    }
   ],
   "source": [
    "# given the name list, sample two different names in a random order\n",
    "import random\n",
    "def get_random_name_pair(name_list):\n",
    "    name1 = random.choice(name_list)\n",
    "    name2 = random.choice(name_list)\n",
    "    while name1 == name2:\n",
    "        name2 = random.choice(name_list)\n",
    "    return name1 + \" \" + name2\n",
    "\n",
    "get_random_name_pair(name_list)\n"
   ]
  },
  {
   "cell_type": "code",
   "execution_count": null,
   "metadata": {},
   "outputs": [],
   "source": []
  }
 ],
 "metadata": {
  "kernelspec": {
   "display_name": "Python 3.10.6 ('arena')",
   "language": "python",
   "name": "python3"
  },
  "language_info": {
   "codemirror_mode": {
    "name": "ipython",
    "version": 3
   },
   "file_extension": ".py",
   "mimetype": "text/x-python",
   "name": "python",
   "nbconvert_exporter": "python",
   "pygments_lexer": "ipython3",
   "version": "3.10.6"
  },
  "orig_nbformat": 4,
  "vscode": {
   "interpreter": {
    "hash": "8b7e6b471291409f54dffbfbdfeccd6f1f2b5fb302e7acf62f723cf276419720"
   }
  }
 },
 "nbformat": 4,
 "nbformat_minor": 2
}
