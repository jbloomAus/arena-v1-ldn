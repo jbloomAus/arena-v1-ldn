{
 "cells": [
  {
   "cell_type": "code",
   "execution_count": null,
   "metadata": {},
   "outputs": [],
   "source": [
    "import functools\n",
    "import json\n",
    "import os\n",
    "from typing import Any, List, Tuple, Union\n",
    "import matplotlib.pyplot as plt\n",
    "import torch\n",
    "import torch as t\n",
    "import torch.nn.functional as F\n",
    "from fancy_einsum import einsum\n",
    "from sklearn.linear_model import LinearRegression\n",
    "from torch import nn\n",
    "import plotly.express as px\n",
    "import plotly.graph_objects as go\n",
    "from plotly.subplots import make_subplots\n",
    "from einops import rearrange, repeat\n",
    "import pandas as pd\n",
    "import numpy as np\n",
    "\n",
    "import w5d5_tests\n",
    "from w5d5_transformer import ParenTransformer, SimpleTokenizer\n",
    "\n",
    "MAIN = __name__ == \"__main__\"\n",
    "DEVICE = t.device(\"cpu\")"
   ]
  }
 ],
 "metadata": {
  "language_info": {
   "name": "python"
  },
  "orig_nbformat": 4
 },
 "nbformat": 4,
 "nbformat_minor": 2
}
