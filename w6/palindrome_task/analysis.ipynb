{
 "cells": [
  {
   "attachments": {},
   "cell_type": "markdown",
   "metadata": {},
   "source": [
    "# Analysis\n",
    "\n",
    "## Load Model\n",
    "\n",
    "I've written some basic code to load the model and make predictions. You can use this as a starting point for your analysis."
   ]
  },
  {
   "cell_type": "code",
   "execution_count": 3,
   "metadata": {},
   "outputs": [
    {
     "data": {
      "text/plain": [
       "0.96"
      ]
     },
     "execution_count": 3,
     "metadata": {},
     "output_type": "execute_result"
    }
   ],
   "source": [
    "from src.utils import load_from_model\n",
    "from src.train import test\n",
    "from torch.utils.data import DataLoader\n",
    "\n",
    "classifier, test_dataset, tokenizer = load_from_model(\"models/Darth Piett\")\n",
    "test_loader = DataLoader(test_dataset, batch_size=32, shuffle=True)\n",
    "test(classifier, test_loader, tokenizer)"
   ]
  },
  {
   "attachments": {},
   "cell_type": "markdown",
   "metadata": {},
   "source": [
    "Later if we want to look at training dynamics we can load the checkpoints"
   ]
  },
  {
   "cell_type": "code",
   "execution_count": 5,
   "metadata": {},
   "outputs": [
    {
     "name": "stdout",
     "output_type": "stream",
     "text": [
      "checkpoint.0 0.527\n",
      "checkpoint.1000 0.601\n",
      "checkpoint.2000 0.639\n",
      "checkpoint.3000 0.655\n",
      "checkpoint.4000 0.685\n",
      "checkpoint.5000 0.745\n",
      "checkpoint.6000 0.725\n",
      "checkpoint.7000 0.822\n",
      "checkpoint.8000 0.872\n",
      "checkpoint.9000 0.918\n",
      "checkpoint.10000 0.928\n",
      "checkpoint.11000 0.93\n",
      "checkpoint.12000 0.942\n",
      "checkpoint.13000 0.944\n",
      "checkpoint.14000 0.945\n",
      "checkpoint.15000 0.925\n"
     ]
    }
   ],
   "source": [
    "import os\n",
    "\n",
    "checkpoints = [i for i in os.listdir(\"models/Darth Piett/\") if \"checkpoint\" in i]\n",
    "for checkpoint in sorted(checkpoints, key=lambda x: int(x.split(\".\")[1])):\n",
    "    path = os.path.join(\"models/Darth Piett/\", checkpoint)\n",
    "    classifier, test_dataset, tokenizer = load_from_model(path)\n",
    "    print(checkpoint, test(classifier, test_loader, tokenizer))"
   ]
  },
  {
   "cell_type": "code",
   "execution_count": null,
   "metadata": {},
   "outputs": [],
   "source": []
  }
 ],
 "metadata": {
  "kernelspec": {
   "display_name": "Python 3.10.6 ('arena')",
   "language": "python",
   "name": "python3"
  },
  "language_info": {
   "codemirror_mode": {
    "name": "ipython",
    "version": 3
   },
   "file_extension": ".py",
   "mimetype": "text/x-python",
   "name": "python",
   "nbconvert_exporter": "python",
   "pygments_lexer": "ipython3",
   "version": "3.10.6"
  },
  "orig_nbformat": 4,
  "vscode": {
   "interpreter": {
    "hash": "8b7e6b471291409f54dffbfbdfeccd6f1f2b5fb302e7acf62f723cf276419720"
   }
  }
 },
 "nbformat": 4,
 "nbformat_minor": 2
}
